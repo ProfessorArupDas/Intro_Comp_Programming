{
  "nbformat": 4,
  "nbformat_minor": 0,
  "metadata": {
    "colab": {
      "provenance": [],
      "authorship_tag": "ABX9TyMSM4NW2vCYRNVWftVQvj+x",
      "include_colab_link": true
    },
    "kernelspec": {
      "name": "python3",
      "display_name": "Python 3"
    },
    "language_info": {
      "name": "python"
    }
  },
  "cells": [
    {
      "cell_type": "markdown",
      "metadata": {
        "id": "view-in-github",
        "colab_type": "text"
      },
      "source": [
        "<a href=\"https://colab.research.google.com/github/ProfessorArupDas/Intro_Comp_Programming/blob/main/Python_Data_types_Syntax.ipynb\" target=\"_parent\"><img src=\"https://colab.research.google.com/assets/colab-badge.svg\" alt=\"Open In Colab\"/></a>"
      ]
    },
    {
      "cell_type": "markdown",
      "source": [
        "# Data Types"
      ],
      "metadata": {
        "id": "8xjDKZXirlIa"
      }
    },
    {
      "cell_type": "markdown",
      "source": [
        "#Code Block 1: Basic Declaration and Arithmetic with int and float"
      ],
      "metadata": {
        "id": "4orGyBpXp_YB"
      }
    },
    {
      "cell_type": "code",
      "execution_count": 1,
      "metadata": {
        "colab": {
          "base_uri": "https://localhost:8080/"
        },
        "id": "zOVyELLTp8Gq",
        "outputId": "a259d77e-ca4c-4695-a8c8-26d9d2fa3597"
      },
      "outputs": [
        {
          "output_type": "stream",
          "name": "stdout",
          "text": [
            "Addition Result: 13.5\n"
          ]
        }
      ],
      "source": [
        "# Declare an integer variable\n",
        "x = 10  # x is assigned the integer value 10\n",
        "\n",
        "# Declare a float variable\n",
        "y = 3.5  # y is assigned the floating-point value 3.5\n",
        "\n",
        "# Perform addition\n",
        "result = x + y  # Adds the integer x and float y, and stores the result in 'result'\n",
        "\n",
        "# Print the result\n",
        "print(f\"Addition Result: {result}\")  # Outputs: Addition Result: 13.5\n"
      ]
    },
    {
      "cell_type": "markdown",
      "source": [
        "#Code Block 2: Multiplication and Type Checking"
      ],
      "metadata": {
        "id": "I49vN-nPqI7D"
      }
    },
    {
      "cell_type": "code",
      "source": [
        "# Declare variables\n",
        "a = 15  # Integer\n",
        "b = 2.5  # Float\n",
        "\n",
        "# Multiply the variables\n",
        "product = a * b  # Multiplication results in a float because one operand is a float\n",
        "\n",
        "# Check and print the data type of the result\n",
        "print(f\"Product: {product}, Type: {type(product)}\")  # Outputs: Product: 37.5, Type: <class 'float'>\n"
      ],
      "metadata": {
        "colab": {
          "base_uri": "https://localhost:8080/"
        },
        "id": "fbfz7Oh_qNOL",
        "outputId": "14cf2ad4-e591-4350-b196-2a6a90a7a5c4"
      },
      "execution_count": 2,
      "outputs": [
        {
          "output_type": "stream",
          "name": "stdout",
          "text": [
            "Product: 37.5, Type: <class 'float'>\n"
          ]
        }
      ]
    },
    {
      "cell_type": "markdown",
      "source": [
        "#Code Block 3: Division and Floor Division"
      ],
      "metadata": {
        "id": "F9Gv5ehDqQJX"
      }
    },
    {
      "cell_type": "code",
      "source": [
        "# Declare variables\n",
        "x = 10  # Integer\n",
        "y = 3  # Integer\n",
        "\n",
        "# Regular division\n",
        "regular_div = x / y  # Performs true division and returns a float\n",
        "\n",
        "# Floor division\n",
        "floor_div = x // y  # Performs division and truncates the decimal part (integer result)\n",
        "\n",
        "# Print the results\n",
        "print(f\"Regular Division: {regular_div}\")  # Outputs: Regular Division: 3.3333333333333335\n",
        "print(f\"Floor Division: {floor_div}\")  # Outputs: Floor Division: 3\n"
      ],
      "metadata": {
        "colab": {
          "base_uri": "https://localhost:8080/"
        },
        "id": "6fCRS_9EqTko",
        "outputId": "25df2c36-40c2-448e-f6dd-e5ec9380706c"
      },
      "execution_count": 3,
      "outputs": [
        {
          "output_type": "stream",
          "name": "stdout",
          "text": [
            "Regular Division: 3.3333333333333335\n",
            "Floor Division: 3\n"
          ]
        }
      ]
    },
    {
      "cell_type": "markdown",
      "source": [
        "#Code Block 4: Exponentiation"
      ],
      "metadata": {
        "id": "kblF_kV7qWXi"
      }
    },
    {
      "cell_type": "code",
      "source": [
        "# Declare variables\n",
        "base = 2  # Integer base\n",
        "exponent = 3  # Integer exponent\n",
        "\n",
        "# Calculate the power\n",
        "result = base ** exponent  # Calculates 2 raised to the power of 3 (2 * 2 * 2)\n",
        "\n",
        "# Print the result\n",
        "print(f\"2 raised to the power of 3 is: {result}\")  # Outputs: 2 raised to the power of 3 is: 8\n"
      ],
      "metadata": {
        "colab": {
          "base_uri": "https://localhost:8080/"
        },
        "id": "vbgCHNBSqaP8",
        "outputId": "eb8e4d5a-e97b-422d-99c7-82d99bda532e"
      },
      "execution_count": 4,
      "outputs": [
        {
          "output_type": "stream",
          "name": "stdout",
          "text": [
            "2 raised to the power of 3 is: 8\n"
          ]
        }
      ]
    },
    {
      "cell_type": "markdown",
      "source": [
        "#Code Block 5: Modulus (Remainder of Division)"
      ],
      "metadata": {
        "id": "G5L42K05qdHw"
      }
    },
    {
      "cell_type": "code",
      "source": [
        "# Declare variables\n",
        "x = 17  # Dividend (integer)\n",
        "y = 4  # Divisor (integer)\n",
        "\n",
        "# Calculate the remainder\n",
        "remainder = x % y  # Finds the remainder when 17 is divided by 4\n",
        "\n",
        "# Print the result\n",
        "print(f\"The remainder of {x} divided by {y} is: {remainder}\")  # Outputs: The remainder of 17 divided by 4 is: 1\n"
      ],
      "metadata": {
        "colab": {
          "base_uri": "https://localhost:8080/"
        },
        "id": "4pXxJfX3qgwd",
        "outputId": "88b062a6-0aa1-417a-cba4-3be4875142fd"
      },
      "execution_count": 5,
      "outputs": [
        {
          "output_type": "stream",
          "name": "stdout",
          "text": [
            "The remainder of 17 divided by 4 is: 1\n"
          ]
        }
      ]
    },
    {
      "cell_type": "markdown",
      "source": [
        "#Code Block 6: Mixing int and float"
      ],
      "metadata": {
        "id": "t3II_9CVqjbs"
      }
    },
    {
      "cell_type": "code",
      "source": [
        "# Declare variables\n",
        "integer_value = 7  # Integer\n",
        "float_value = 2.0  # Float\n",
        "\n",
        "# Perform mixed operations\n",
        "result_add = integer_value + float_value  # Adds an integer and a float, result is a float\n",
        "result_div = integer_value / float_value  # Divides an integer by a float, result is a float\n",
        "\n",
        "# Print the results\n",
        "print(f\"Addition: {result_add}, Division: {result_div}\")\n",
        "# Outputs: Addition: 9.0, Division: 3.5\n"
      ],
      "metadata": {
        "colab": {
          "base_uri": "https://localhost:8080/"
        },
        "id": "0_Ix0MvBqmke",
        "outputId": "5a5f6379-bf96-4b10-9389-52a5990dd4f9"
      },
      "execution_count": 6,
      "outputs": [
        {
          "output_type": "stream",
          "name": "stdout",
          "text": [
            "Addition: 9.0, Division: 3.5\n"
          ]
        }
      ]
    },
    {
      "cell_type": "markdown",
      "source": [
        "\n",
        "\n",
        "---\n",
        "\n",
        "\n",
        "\n",
        "---\n",
        "\n"
      ],
      "metadata": {
        "id": "Y39RpM1Qszoi"
      }
    },
    {
      "cell_type": "markdown",
      "source": [
        "# Python Syntax"
      ],
      "metadata": {
        "id": "ZgDAhPgBr1qx"
      }
    },
    {
      "cell_type": "markdown",
      "source": [
        "#1. Comments"
      ],
      "metadata": {
        "id": "i6ap63Ojr8gK"
      }
    },
    {
      "cell_type": "code",
      "source": [
        "# This is a single-line comment\n",
        "# Comments are ignored by the Python interpreter and are used for documentation or explanation.\n",
        "\n",
        "\"\"\"\n",
        "This is a multi-line comment.\n",
        "Multi-line comments are used for explaining more complex pieces of code\n",
        "or for including block-level documentation.\n",
        "\"\"\"\n",
        "print(\"Comments are not executed!\")  # This will output a message.\n"
      ],
      "metadata": {
        "colab": {
          "base_uri": "https://localhost:8080/"
        },
        "id": "ZwgDCknLr5nX",
        "outputId": "66855b45-534d-4366-a758-a7155d69e750"
      },
      "execution_count": 7,
      "outputs": [
        {
          "output_type": "stream",
          "name": "stdout",
          "text": [
            "Comments are not executed!\n"
          ]
        }
      ]
    },
    {
      "cell_type": "markdown",
      "source": [
        "#2. Indentation"
      ],
      "metadata": {
        "id": "qqsqKM7PsBCh"
      }
    },
    {
      "cell_type": "code",
      "source": [
        "# Proper indentation is required in Python to define code blocks.\n",
        "if True:  # This condition is always True.\n",
        "    print(\"This is properly indented!\")  # This line belongs to the 'if' block.\n",
        "\n",
        "# Example of an error due to improper indentation:\n",
        "# if True:\n",
        "# print(\"This will cause an IndentationError\")\n"
      ],
      "metadata": {
        "colab": {
          "base_uri": "https://localhost:8080/"
        },
        "id": "9Xi292xOsER_",
        "outputId": "9c5de89d-e402-434e-f55e-92492eb085df"
      },
      "execution_count": 8,
      "outputs": [
        {
          "output_type": "stream",
          "name": "stdout",
          "text": [
            "This is properly indented!\n"
          ]
        }
      ]
    },
    {
      "cell_type": "markdown",
      "source": [
        "#3. Variables"
      ],
      "metadata": {
        "id": "7HOYzHL6sJfj"
      }
    },
    {
      "cell_type": "code",
      "source": [
        "# Declare variables\n",
        "name = \"Alice\"  # A string value assigned to 'name'\n",
        "age = 25  # An integer value assigned to 'age'\n",
        "\n",
        "# Print variables\n",
        "print(f\"Name: {name}, Age: {age}\")\n"
      ],
      "metadata": {
        "colab": {
          "base_uri": "https://localhost:8080/"
        },
        "id": "ZlWdqZpzsMnQ",
        "outputId": "df05926c-629e-4111-9d2a-902a939bbe3e"
      },
      "execution_count": 9,
      "outputs": [
        {
          "output_type": "stream",
          "name": "stdout",
          "text": [
            "Name: Alice, Age: 25\n"
          ]
        }
      ]
    },
    {
      "cell_type": "markdown",
      "source": [
        "# 4. Constants"
      ],
      "metadata": {
        "id": "vvHpLQw5sPdP"
      }
    },
    {
      "cell_type": "code",
      "source": [
        "# Declare constants (not enforced but written in uppercase as a convention)\n",
        "PI = 3.14159  # Mathematical constant\n",
        "MAX_USERS = 100  # Maximum number of users allowed\n",
        "\n",
        "# Use constants in a calculation\n",
        "circle_radius = 5\n",
        "circle_area = PI * (circle_radius ** 2)  # Area formula: πr²\n",
        "\n",
        "print(f\"The area of the circle is {circle_area}\")\n"
      ],
      "metadata": {
        "colab": {
          "base_uri": "https://localhost:8080/"
        },
        "id": "6ckiO644sSw_",
        "outputId": "ee4d115c-afa7-4b93-b075-15c5469fc3fc"
      },
      "execution_count": 10,
      "outputs": [
        {
          "output_type": "stream",
          "name": "stdout",
          "text": [
            "The area of the circle is 78.53975\n"
          ]
        }
      ]
    },
    {
      "cell_type": "markdown",
      "source": [
        "#5. Data Types"
      ],
      "metadata": {
        "id": "ttdurnGCsVrb"
      }
    },
    {
      "cell_type": "code",
      "source": [
        "# Integer\n",
        "x = 5  # Integer type\n",
        "\n",
        "# Float\n",
        "y = 3.14  # Floating-point number\n",
        "\n",
        "# String\n",
        "z = str(5)  # Explicitly cast the integer 5 to a string\n",
        "\n",
        "# Print types of the variables\n",
        "print(f\"x: {x}, type: {type(x)}\")\n",
        "print(f\"y: {y}, type: {type(y)}\")\n",
        "print(f\"z: {z}, type: {type(z)}\")\n"
      ],
      "metadata": {
        "colab": {
          "base_uri": "https://localhost:8080/"
        },
        "id": "IYaLD5WYsZiL",
        "outputId": "ff4837a9-dd95-48d3-dcaf-b6bb717dceaf"
      },
      "execution_count": 11,
      "outputs": [
        {
          "output_type": "stream",
          "name": "stdout",
          "text": [
            "x: 5, type: <class 'int'>\n",
            "y: 3.14, type: <class 'float'>\n",
            "z: 5, type: <class 'str'>\n"
          ]
        }
      ]
    },
    {
      "cell_type": "markdown",
      "source": [
        "#6. Input and Output"
      ],
      "metadata": {
        "id": "UPRlb7i8scb8"
      }
    },
    {
      "cell_type": "code",
      "source": [
        "# Input from user\n",
        "name = input(\"Enter your name: \")  # Input is always returned as a string\n",
        "age = int(input(\"Enter your age: \"))  # Convert input to integer\n",
        "\n",
        "# Output using f-strings\n",
        "print(f\"Hello, {name}! You are {age} years old.\")\n"
      ],
      "metadata": {
        "colab": {
          "base_uri": "https://localhost:8080/"
        },
        "id": "T28jrdBRsfTF",
        "outputId": "bc9f08e9-7a63-435b-9f7d-2677505dcbd2"
      },
      "execution_count": 12,
      "outputs": [
        {
          "output_type": "stream",
          "name": "stdout",
          "text": [
            "Enter your name: A\n",
            "Enter your age: 22\n",
            "Hello, A! You are 22 years old.\n"
          ]
        }
      ]
    },
    {
      "cell_type": "markdown",
      "source": [
        "#7. Arithmetic Operators"
      ],
      "metadata": {
        "id": "S7mektwaskL8"
      }
    },
    {
      "cell_type": "code",
      "source": [
        "# Perform arithmetic operations\n",
        "a = 10 + 5  # Addition\n",
        "b = 2 ** 3  # Exponentiation (2 raised to the power of 3)\n",
        "\n",
        "# Print results\n",
        "print(f\"Addition: {a}\")\n",
        "print(f\"Exponentiation: {b}\")\n"
      ],
      "metadata": {
        "colab": {
          "base_uri": "https://localhost:8080/"
        },
        "id": "ETvWcTxYsnT8",
        "outputId": "517d5987-50a3-4694-d9e8-f15cd193f102"
      },
      "execution_count": 13,
      "outputs": [
        {
          "output_type": "stream",
          "name": "stdout",
          "text": [
            "Addition: 15\n",
            "Exponentiation: 8\n"
          ]
        }
      ]
    },
    {
      "cell_type": "markdown",
      "source": [
        "#8. Comparison Operators"
      ],
      "metadata": {
        "id": "f_NiWXbxsqPb"
      }
    },
    {
      "cell_type": "code",
      "source": [
        "# Declare variables\n",
        "x = 10\n",
        "y = 20\n",
        "\n",
        "# Perform comparisons\n",
        "print(x == y)  # False, because 10 is not equal to 20\n",
        "print(x < y)   # True, because 10 is less than 20\n",
        "print(x >= 5)  # True, because 10 is greater than or equal to 5\n"
      ],
      "metadata": {
        "colab": {
          "base_uri": "https://localhost:8080/"
        },
        "id": "IC5iPgewstky",
        "outputId": "1d9e7fca-cd9f-48d7-af0e-e0762aa1c4e0"
      },
      "execution_count": 14,
      "outputs": [
        {
          "output_type": "stream",
          "name": "stdout",
          "text": [
            "False\n",
            "True\n",
            "True\n"
          ]
        }
      ]
    },
    {
      "cell_type": "markdown",
      "source": [
        "\n",
        "\n",
        "---\n",
        "\n",
        "\n",
        "\n",
        "---\n",
        "\n"
      ],
      "metadata": {
        "id": "wSp7lISAs18S"
      }
    }
  ]
}