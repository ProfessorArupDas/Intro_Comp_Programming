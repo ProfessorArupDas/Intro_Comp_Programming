{
  "nbformat": 4,
  "nbformat_minor": 0,
  "metadata": {
    "colab": {
      "provenance": [],
      "authorship_tag": "ABX9TyPT4LoAS9SyypI19zxgfGdi",
      "include_colab_link": true
    },
    "kernelspec": {
      "name": "python3",
      "display_name": "Python 3"
    },
    "language_info": {
      "name": "python"
    }
  },
  "cells": [
    {
      "cell_type": "markdown",
      "metadata": {
        "id": "view-in-github",
        "colab_type": "text"
      },
      "source": [
        "<a href=\"https://colab.research.google.com/github/ProfessorArupDas/Intro_Comp_Programming/blob/main/Notebook_GitHub_Integration.ipynb\" target=\"_parent\"><img src=\"https://colab.research.google.com/assets/colab-badge.svg\" alt=\"Open In Colab\"/></a>"
      ]
    },
    {
      "cell_type": "markdown",
      "source": [
        "# variables"
      ],
      "metadata": {
        "id": "zY2vMeUGJaDq"
      }
    },
    {
      "cell_type": "code",
      "source": [
        "# Cell 1: Introduction to Variables\n",
        "# What is a variable?\n",
        "# A variable is a container for storing data that can be used and changed later in the program.\n",
        "print(\"A variable is a container for storing data. For example:\")\n",
        "\n",
        "# Defining a variable and assigning it a value of 10\n",
        "x = 10\n",
        "print(\"x =\", x)  # Printing the value of x\n",
        "\n",
        "# Changing the value of the variable\n",
        "x = 20  # Reassigning a new value to x\n",
        "print(\"Now, x =\", x)  # Printing the updated value of x\n"
      ],
      "metadata": {
        "colab": {
          "base_uri": "https://localhost:8080/"
        },
        "id": "Yjd5kmalEpQy",
        "outputId": "b74cb025-c809-4c69-ce16-17b2e61a432f"
      },
      "execution_count": 8,
      "outputs": [
        {
          "output_type": "stream",
          "name": "stdout",
          "text": [
            "A variable is a container for storing data. For example:\n",
            "x = 10\n",
            "Now, x = 20\n"
          ]
        }
      ]
    },
    {
      "cell_type": "code",
      "source": [
        "# Cell 2: Creating Variables\n",
        "# Assigning values to variables\n",
        "# Variables can store numbers, strings, or other data types.\n",
        "\n",
        "a = 5  # Assigning the value 5 to variable 'a'\n",
        "b = 10  # Assigning the value 10 to variable 'b'\n",
        "c = a + b  # Performing addition and storing the result in variable 'c'\n",
        "\n",
        "# Printing the values of each variable\n",
        "print(\"a =\", a)\n",
        "print(\"b =\", b)\n",
        "print(\"a + b =\", c)  # Printing the result of the addition\n"
      ],
      "metadata": {
        "colab": {
          "base_uri": "https://localhost:8080/"
        },
        "id": "4RGT7ESVIvdK",
        "outputId": "a070f06c-d717-440b-9f35-c284319d5f4c"
      },
      "execution_count": 9,
      "outputs": [
        {
          "output_type": "stream",
          "name": "stdout",
          "text": [
            "a = 5\n",
            "b = 10\n",
            "a + b = 15\n"
          ]
        }
      ]
    },
    {
      "cell_type": "code",
      "source": [
        "# Cell 3: Types of Variables\n",
        "# Variables can store different data types, such as strings, integers, and floats.\n",
        "\n",
        "name = \"Alice\"  # Storing a string value in 'name'\n",
        "age = 25        # Storing an integer value in 'age'\n",
        "height = 5.6    # Storing a float (decimal number) in 'height'\n",
        "\n",
        "# Printing the values of variables and their corresponding labels\n",
        "print(\"Name:\", name)  # Output: Alice\n",
        "print(\"Age:\", age)    # Output: 25\n",
        "print(\"Height:\", height)  # Output: 5.6\n"
      ],
      "metadata": {
        "colab": {
          "base_uri": "https://localhost:8080/"
        },
        "id": "VdWWmoUAIzZB",
        "outputId": "d94e3d90-cd31-45b5-bbaa-ffb3e2ad515e"
      },
      "execution_count": 10,
      "outputs": [
        {
          "output_type": "stream",
          "name": "stdout",
          "text": [
            "Name: Alice\n",
            "Age: 25\n",
            "Height: 5.6\n"
          ]
        }
      ]
    },
    {
      "cell_type": "code",
      "source": [
        "# Cell 4: Dynamic Typing\n",
        "# Python allows variables to change their type dynamically.\n",
        "\n",
        "var = 100  # 'var' is initially an integer\n",
        "print(\"var (int):\", var)  # Printing the value and type of 'var'\n",
        "\n",
        "var = \"Now I am a string\"  # Changing 'var' to a string\n",
        "print(\"var (str):\", var)  # Printing the new value and type of 'var'\n"
      ],
      "metadata": {
        "colab": {
          "base_uri": "https://localhost:8080/"
        },
        "id": "NJ_iaBu4I1Ul",
        "outputId": "1a394f80-55ce-481d-f45c-0326f85876c4"
      },
      "execution_count": 11,
      "outputs": [
        {
          "output_type": "stream",
          "name": "stdout",
          "text": [
            "var (int): 100\n",
            "var (str): Now I am a string\n"
          ]
        }
      ]
    },
    {
      "cell_type": "code",
      "source": [
        "# Cell 5: Rules for Naming Variables\n",
        "# Variable names must follow certain rules.\n",
        "\n",
        "# Example of a valid variable name\n",
        "_valid_name = 42  # Variable name starts with an underscore, which is allowed\n",
        "print(\"_valid_name =\", _valid_name)\n",
        "\n",
        "# Examples of invalid variable names (Uncomment the lines below to see errors)\n",
        "# 1name = 100  # Invalid: Cannot start with a number\n",
        "# my-name = \"Invalid\"  # Invalid: Cannot contain hyphens\n"
      ],
      "metadata": {
        "colab": {
          "base_uri": "https://localhost:8080/"
        },
        "id": "YCUNeXEgI447",
        "outputId": "6c474d84-616b-4d6a-9a7e-1b09dcd5049a"
      },
      "execution_count": 12,
      "outputs": [
        {
          "output_type": "stream",
          "name": "stdout",
          "text": [
            "_valid_name = 42\n"
          ]
        }
      ]
    },
    {
      "cell_type": "code",
      "source": [
        "# Cell 6: Case Sensitivity\n",
        "# Variable names are case-sensitive, meaning 'apple' and 'Apple' are treated as different variables.\n",
        "\n",
        "apple = 10  # Defining a variable 'apple'\n",
        "Apple = 20  # Defining a different variable 'Apple' (note the capital 'A')\n",
        "\n",
        "# Printing the values of both variables\n",
        "print(\"apple =\", apple)  # Output: 10\n",
        "print(\"Apple =\", Apple)  # Output: 20\n"
      ],
      "metadata": {
        "colab": {
          "base_uri": "https://localhost:8080/"
        },
        "id": "PWIikm8II9LS",
        "outputId": "730b96da-1318-4a09-df7b-2a97a20521d8"
      },
      "execution_count": 13,
      "outputs": [
        {
          "output_type": "stream",
          "name": "stdout",
          "text": [
            "apple = 10\n",
            "Apple = 20\n"
          ]
        }
      ]
    },
    {
      "cell_type": "code",
      "source": [
        "# Cell 7: Multiple Assignments\n",
        "# Assigning values to multiple variables in one line.\n",
        "\n",
        "x, y, z = 1, 2, 3  # Assigning values 1, 2, and 3 to x, y, and z respectively\n",
        "print(\"x =\", x, \"y =\", y, \"z =\", z)  # Printing all three variables\n",
        "\n",
        "# Assigning the same value to multiple variables\n",
        "a = b = c = 100  # All variables (a, b, and c) are assigned the value 100\n",
        "print(\"a =\", a, \"b =\", b, \"c =\", c)  # Printing the values\n"
      ],
      "metadata": {
        "colab": {
          "base_uri": "https://localhost:8080/"
        },
        "id": "crKcc4xfI-dS",
        "outputId": "ace000aa-d5cb-48e1-dfc7-0b402e1b3d58"
      },
      "execution_count": 14,
      "outputs": [
        {
          "output_type": "stream",
          "name": "stdout",
          "text": [
            "x = 1 y = 2 z = 3\n",
            "a = 100 b = 100 c = 100\n"
          ]
        }
      ]
    },
    {
      "cell_type": "code",
      "source": [
        "# Cell 8: Memory Behavior\n",
        "# Variables exist in memory temporarily while the program is running.\n",
        "\n",
        "num = 50  # Storing a value in 'num'\n",
        "print(\"The variable 'num' is currently:\", num)  # Output the value of 'num'\n",
        "\n",
        "# When the program ends or the notebook is shut down, this variable will be removed from memory.\n"
      ],
      "metadata": {
        "colab": {
          "base_uri": "https://localhost:8080/"
        },
        "id": "LKyS0HYnJEC2",
        "outputId": "5eedc520-7fa6-4619-856e-7b448ad6abe6"
      },
      "execution_count": 15,
      "outputs": [
        {
          "output_type": "stream",
          "name": "stdout",
          "text": [
            "The variable 'num' is currently: 50\n"
          ]
        }
      ]
    },
    {
      "cell_type": "code",
      "source": [
        "# Cell 9: User Input and Variables\n",
        "# Variables can also store input provided by the user.\n",
        "\n",
        "# Asking the user for their name and storing it in 'user_name'\n",
        "user_name = input(\"Enter your name: \")\n",
        "\n",
        "# Asking the user for their age and storing it in 'user_age'\n",
        "# Note: input() returns a string, so we can directly store it here.\n",
        "user_age = input(\"Enter your age: \")\n",
        "\n",
        "# Using the variables to display a message\n",
        "print(\"Hello,\", user_name + \"!\")  # Concatenating strings\n",
        "print(\"You are\", user_age, \"years old.\")  # Combining strings and variables\n"
      ],
      "metadata": {
        "colab": {
          "base_uri": "https://localhost:8080/"
        },
        "id": "VkTs8HXwJHVU",
        "outputId": "738234c6-8943-4aed-95d6-784b69b80554"
      },
      "execution_count": 16,
      "outputs": [
        {
          "output_type": "stream",
          "name": "stdout",
          "text": [
            "Enter your name: Arup\n",
            "Enter your age: 25\n",
            "Hello, Arup!\n",
            "You are 25 years old.\n"
          ]
        }
      ]
    },
    {
      "cell_type": "code",
      "source": [
        "# Cell 10: Type Checking\n",
        "# You can check the type of data stored in a variable using the type() function.\n",
        "\n",
        "x = 42  # Integer\n",
        "y = 3.14  # Float\n",
        "z = \"Hello, Python!\"  # String\n",
        "\n",
        "# Printing the type of each variable\n",
        "print(\"x is of type\", type(x))  # Output: <class 'int'>\n",
        "print(\"y is of type\", type(y))  # Output: <class 'float'>\n",
        "print(\"z is of type\", type(z))  # Output: <class 'str'>\n"
      ],
      "metadata": {
        "colab": {
          "base_uri": "https://localhost:8080/"
        },
        "id": "4iatUx3IJP3V",
        "outputId": "24883cf5-1000-4002-f4fb-2d9ee4a43db1"
      },
      "execution_count": 17,
      "outputs": [
        {
          "output_type": "stream",
          "name": "stdout",
          "text": [
            "x is of type <class 'int'>\n",
            "y is of type <class 'float'>\n",
            "z is of type <class 'str'>\n"
          ]
        }
      ]
    },
    {
      "cell_type": "code",
      "source": [
        "# Cell 11: Persistent Variables\n",
        "# Variables are non-persistent, but you can save their values to a file for later use.\n",
        "\n",
        "# Storing a string in 'data'\n",
        "data = \"This is some data to save.\"\n",
        "\n",
        "# Writing the value of 'data' to a file\n",
        "with open(\"data.txt\", \"w\") as file:\n",
        "    file.write(data)  # Writing data to the file\n",
        "print(\"Data saved to file.\")  # Informing the user\n",
        "\n",
        "# Reading the value back from the file\n",
        "with open(\"data.txt\", \"r\") as file:\n",
        "    content = file.read()  # Reading the content of the file\n",
        "print(\"Data read from file:\", content)  # Printing the read data\n"
      ],
      "metadata": {
        "colab": {
          "base_uri": "https://localhost:8080/"
        },
        "id": "psWz2anCJRGp",
        "outputId": "70e2a9b8-34a8-450a-e8b5-9703e5c26613"
      },
      "execution_count": 18,
      "outputs": [
        {
          "output_type": "stream",
          "name": "stdout",
          "text": [
            "Data saved to file.\n",
            "Data read from file: This is some data to save.\n"
          ]
        }
      ]
    },
    {
      "cell_type": "code",
      "source": [
        "# Cell 12: Summary\n",
        "# Summarizing key points about variables\n",
        "print(\"\"\"\n",
        "Key Points:\n",
        "1. Variables store data for use in a program.\n",
        "2. Python variables are dynamically typed, so they can change types.\n",
        "3. Variable names must follow specific rules (e.g., no numbers at the start).\n",
        "4. Variables are non-persistent unless explicitly saved to a file or database.\n",
        "5. Use variables to make programs reusable, readable, and dynamic.\n",
        "\"\"\")\n"
      ],
      "metadata": {
        "colab": {
          "base_uri": "https://localhost:8080/"
        },
        "id": "Kx7VQxaGJXDM",
        "outputId": "9201423f-72b6-48c8-d0bc-df62c5b4f704"
      },
      "execution_count": 19,
      "outputs": [
        {
          "output_type": "stream",
          "name": "stdout",
          "text": [
            "\n",
            "Key Points:\n",
            "1. Variables store data for use in a program.\n",
            "2. Python variables are dynamically typed, so they can change types.\n",
            "3. Variable names must follow specific rules (e.g., no numbers at the start).\n",
            "4. Variables are non-persistent unless explicitly saved to a file or database.\n",
            "5. Use variables to make programs reusable, readable, and dynamic.\n",
            "\n"
          ]
        }
      ]
    }
  ]
}